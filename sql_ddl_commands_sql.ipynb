{
  "nbformat": 4,
  "nbformat_minor": 0,
  "metadata": {
    "colab": {
      "provenance": [],
      "authorship_tag": "ABX9TyMsQz4xtbaeGEQQUXwC/raK",
      "include_colab_link": true
    },
    "kernelspec": {
      "name": "python3",
      "display_name": "Python 3"
    },
    "language_info": {
      "name": "python"
    }
  },
  "cells": [
    {
      "cell_type": "markdown",
      "metadata": {
        "id": "view-in-github",
        "colab_type": "text"
      },
      "source": [
        "<a href=\"https://colab.research.google.com/github/its-kanii/SQL-DDL-Commands/blob/main/sql_ddl_commands_sql.ipynb\" target=\"_parent\"><img src=\"https://colab.research.google.com/assets/colab-badge.svg\" alt=\"Open In Colab\"/></a>"
      ]
    },
    {
      "cell_type": "code",
      "execution_count": 31,
      "metadata": {
        "id": "JBQfWlGnrray"
      },
      "outputs": [],
      "source": [
        "!pip install ipython-sql\n",
        "%load_ext sql\n",
        "%sql sqlite:///:memory:  # Create an in-memory database"
      ]
    },
    {
      "cell_type": "code",
      "source": [
        "# Apply the deprecated default style\n",
        "%config SqlMagic.style='_DEPRECATED_DEFAULT'"
      ],
      "metadata": {
        "id": "aAlJbLH5sRC5"
      },
      "execution_count": 10,
      "outputs": []
    },
    {
      "cell_type": "markdown",
      "source": [
        "# Examples with Real-Time Queries"
      ],
      "metadata": {
        "id": "8wFvOQ9Gs39e"
      }
    },
    {
      "cell_type": "markdown",
      "source": [
        "# 1.CREATE\n",
        "Creates a table called employees with columns for ID, name, and salary."
      ],
      "metadata": {
        "id": "6aV2InYRs-YJ"
      }
    },
    {
      "cell_type": "code",
      "source": [
        "%%sql\n",
        "CREATE TABLE employees (\n",
        "    employee_id INT PRIMARY KEY,\n",
        "    employee_name VARCHAR(100),\n",
        "    salary DECIMAL(10, 2)\n",
        ");"
      ],
      "metadata": {
        "id": "sFxYv9dys3TR"
      },
      "execution_count": 31,
      "outputs": []
    },
    {
      "cell_type": "markdown",
      "source": [
        "# 2. ALTER\n",
        "Adds a new column (department) to the employees table.\n",
        "\n"
      ],
      "metadata": {
        "id": "iSspgyxmtmRu"
      }
    },
    {
      "cell_type": "code",
      "source": [
        "%%sql\n",
        "ALTER TABLE employees\n",
        "ADD department VARCHAR(50);"
      ],
      "metadata": {
        "id": "0DCoiV0Stl-S"
      },
      "execution_count": 31,
      "outputs": []
    },
    {
      "cell_type": "markdown",
      "source": [
        "#3. DROP\n",
        "Deletes the employees table from the database."
      ],
      "metadata": {
        "id": "IqNcxQO4tzLy"
      }
    },
    {
      "cell_type": "code",
      "source": [
        "%%sql\n",
        "DROP TABLE employees;"
      ],
      "metadata": {
        "id": "n3xcR8m6tygl"
      },
      "execution_count": 31,
      "outputs": []
    },
    {
      "cell_type": "markdown",
      "source": [
        "#4. TRUNCATE\n",
        "Removes all rows from the employees table but keeps the table structure."
      ],
      "metadata": {
        "id": "IVYBG9SnuNkC"
      }
    },
    {
      "cell_type": "code",
      "source": [
        "%%sql\n",
        "TRUNCATE TABLE employees;\n"
      ],
      "metadata": {
        "id": "975Un2JevDvZ"
      },
      "execution_count": 29,
      "outputs": []
    },
    {
      "cell_type": "markdown",
      "source": [
        "#5. RENAME\n",
        "Renames the employees table to staff."
      ],
      "metadata": {
        "id": "OF9B8dq-vTiT"
      }
    },
    {
      "cell_type": "code",
      "source": [
        "%%sql\n",
        "RENAME TABLE employees TO staff;"
      ],
      "metadata": {
        "id": "-NRyR7cIvf3n"
      },
      "execution_count": 30,
      "outputs": []
    },
    {
      "cell_type": "markdown",
      "source": [],
      "metadata": {
        "id": "mPyfq8fTwovM"
      }
    },
    {
      "cell_type": "markdown",
      "source": [
        "#Real-Time Use Case Example\n",
        "Imagine you're working with an E-commerce Database and need to manage customer data. You might use these DDL commands as follows:\n",
        "\n",
        "\n",
        "*  Create a new table to store customer details:\n",
        "\n",
        "\n"
      ],
      "metadata": {
        "id": "Q_eC2rYdwb3q"
      }
    },
    {
      "cell_type": "code",
      "source": [
        "%%sql\n",
        "CREATE TABLE customers (\n",
        "    customer_id INT PRIMARY KEY,\n",
        "    customer_name VARCHAR(100),\n",
        "    email VARCHAR(100),\n",
        "    phone_number VARCHAR(15)\n",
        ");\n"
      ],
      "metadata": {
        "id": "egZyCEb6wgPk"
      },
      "execution_count": null,
      "outputs": []
    },
    {
      "cell_type": "markdown",
      "source": [
        "\n",
        "\n",
        "*  Alter the table to add a column for the customer's address\n",
        "\n",
        "\n"
      ],
      "metadata": {
        "id": "U1AK0RW0w-78"
      }
    },
    {
      "cell_type": "code",
      "source": [
        "%%sql\n",
        "ALTER TABLE customers\n",
        "ADD address VARCHAR(255);"
      ],
      "metadata": {
        "id": "NUZE355axF1S"
      },
      "execution_count": null,
      "outputs": []
    },
    {
      "cell_type": "markdown",
      "source": [
        "\n",
        "\n",
        "*  If the table was incorrectly named, you could rename it\n",
        "\n",
        "\n"
      ],
      "metadata": {
        "id": "vF3MUmChxNrf"
      }
    },
    {
      "cell_type": "code",
      "source": [
        "%%sql\n",
        "RENAME TABLE customers TO clients;"
      ],
      "metadata": {
        "id": "OYKQHJ9axUrK"
      },
      "execution_count": null,
      "outputs": []
    },
    {
      "cell_type": "markdown",
      "source": [
        "\n",
        "\n",
        "*  If a table needs to be deleted, like when a customer data table is no longer required, you can drop it:\n",
        "\n"
      ],
      "metadata": {
        "id": "wOV7uskixcUg"
      }
    },
    {
      "cell_type": "code",
      "source": [
        "%%sql\n",
        "DROP TABLE clients;"
      ],
      "metadata": {
        "id": "Mz5-xo81xiUt"
      },
      "execution_count": null,
      "outputs": []
    },
    {
      "cell_type": "markdown",
      "source": [
        "\n",
        "\n",
        "*  If you want to remove all data but keep the table structure (e.g., clearing customer records after a policy update)\n",
        "\n",
        "\n"
      ],
      "metadata": {
        "id": "3TrT9xQVxmb2"
      }
    },
    {
      "cell_type": "code",
      "source": [
        "%%sql\n",
        "TRUNCATE TABLE clients;"
      ],
      "metadata": {
        "id": "2OWxZDZixszg"
      },
      "execution_count": null,
      "outputs": []
    }
  ]
}